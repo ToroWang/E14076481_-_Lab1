{
 "cells": [
  {
   "cell_type": "markdown",
   "id": "da31e192",
   "metadata": {},
   "source": [
    "* 用函式`append`來將value加入n_list"
   ]
  },
  {
   "cell_type": "code",
   "execution_count": 13,
   "id": "7ea4d3ab",
   "metadata": {
    "scrolled": false
   },
   "outputs": [
    {
     "name": "stdout",
     "output_type": "stream",
     "text": [
      "Enter the number of smallest and largest values to remove:1\n",
      "Enter a value (q or Q to quit): 2\n",
      "Enter a value (q or Q to quit): 3\n",
      "Enter a value (q or Q to quit): 4\n",
      "Enter a value (q or Q to quit): 5\n",
      "Enter a value (q or Q to quit): 6\n",
      "Enter a value (q or Q to quit): 5\n",
      "Enter a value (q or Q to quit): 4\n",
      "Enter a value (q or Q to quit): 3\n",
      "Enter a value (q or Q to quit): 2\n",
      "Enter a value (q or Q to quit): 1\n",
      "Enter a value (q or Q to quit): q\n"
     ]
    }
   ],
   "source": [
    "num = int(input('Enter the number of smallest and largest values to remove:'))\n",
    "n_list = []\n",
    "\n",
    "value = input('Enter a value (q or Q to quit): ')\n",
    "while value != 'q' and value !='Q':\n",
    "    n_list.append(int(value))\n",
    "    value = input('Enter a value (q or Q to quit): ')"
   ]
  },
  {
   "cell_type": "code",
   "execution_count": 14,
   "id": "48e9c850",
   "metadata": {},
   "outputs": [],
   "source": [
    "def remove_outliers(n, n_list):\n",
    "    # 除了original再增加兩個，一個為空list，一個和original相同\n",
    "    m_list = []\n",
    "    r_list = []\n",
    "    for number in n_list[::1]:\n",
    "        r_list += [number]    \n",
    "\n",
    "    # 防呆，避免要去除的數目num 比list中的data還多\n",
    "    if num <= len(n_list):\n",
    "        for i in range(num):\n",
    "            max_n = max(n_list)\n",
    "            min_n = min(n_list)\n",
    "            m_list.append(int(max_n))\n",
    "            m_list.append(int(min_n))\n",
    "            r_list.remove(max_n)\n",
    "            r_list.remove(min_n)\n",
    "    \n",
    "    print('The original data:', n_list)\n",
    "    \n",
    "    # 使用list內建函數sort()來排序\n",
    "    r_list.sort()\n",
    "    print('The data with the outliers removed:', r_list)    \n",
    "    m_list.sort()\n",
    "    print('The outliers:', m_list)"
   ]
  },
  {
   "cell_type": "code",
   "execution_count": 15,
   "id": "677dbc33",
   "metadata": {},
   "outputs": [
    {
     "name": "stdout",
     "output_type": "stream",
     "text": [
      "The original data: [2, 3, 4, 5, 6, 5, 4, 3, 2, 1]\n",
      "The data with the outliers removed: [2, 2, 3, 3, 4, 4, 5, 5]\n",
      "The outliers: [1, 6]\n"
     ]
    }
   ],
   "source": [
    "remove_outliers(num, n_list)"
   ]
  },
  {
   "cell_type": "code",
   "execution_count": null,
   "id": "72d9f473",
   "metadata": {},
   "outputs": [],
   "source": []
  }
 ],
 "metadata": {
  "kernelspec": {
   "display_name": "Python 3",
   "language": "python",
   "name": "python3"
  },
  "language_info": {
   "codemirror_mode": {
    "name": "ipython",
    "version": 3
   },
   "file_extension": ".py",
   "mimetype": "text/x-python",
   "name": "python",
   "nbconvert_exporter": "python",
   "pygments_lexer": "ipython3",
   "version": "3.8.8"
  }
 },
 "nbformat": 4,
 "nbformat_minor": 5
}
