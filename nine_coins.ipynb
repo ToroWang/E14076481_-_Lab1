{
 "cells": [
  {
   "cell_type": "code",
   "execution_count": 1,
   "id": "b2f17ce9",
   "metadata": {},
   "outputs": [],
   "source": [
    "import random\n",
    "class Nine_Coins:\n",
    "    # 初始函數，dec_num儲存十進位數字\n",
    "    def __init__(self, dec_num):\n",
    "        self.dec_num = dec_num\n",
    "        \n",
    "    # 呼叫toss()時，dec_num變為隨機數字\n",
    "    def toss(self):\n",
    "        self.dec_num = random.randint(0, 511)\n",
    "        return\n",
    "    \n",
    "    # 呼叫此class時會列印\n",
    "    def __repr__(self):        \n",
    "        text = ''        \n",
    "        HT_list = []  \n",
    "        \n",
    "        # f-string格式，09表示共9位數，空格由0補上，b表示二進位\n",
    "        HT_list.extend(f'{self.dec_num:09b}')\n",
    "        \n",
    "        # [::1] 前兩格沒給值表示從頭到尾，後面的1表示由前往後一次一個\n",
    "        for i in HT_list[::1]:\n",
    "            if i == '0':\n",
    "                i = 'H'\n",
    "            if i == '1':\n",
    "                i = 'T'\n",
    "            text += i\n",
    "            \n",
    "        return f'Nine_Coins: {text}'\n",
    "    \n",
    "    # print此class時會列印\n",
    "    def __str__(self):\n",
    "        return f'binary: {self.dec_num:09b} and decimal: {self.dec_num}'"
   ]
  },
  {
   "cell_type": "code",
   "execution_count": 2,
   "id": "198304c9",
   "metadata": {
    "scrolled": false
   },
   "outputs": [
    {
     "name": "stderr",
     "output_type": "stream",
     "text": [
      "[NbConvertApp] Converting notebook nine_coins.ipynb to script\n",
      "[NbConvertApp] Writing 804 bytes to nine_coins.py\n"
     ]
    }
   ],
   "source": [
    "!jupyter nbconvert --to script nine_coins.ipynb"
   ]
  },
  {
   "cell_type": "code",
   "execution_count": null,
   "id": "89d7a2d4",
   "metadata": {},
   "outputs": [],
   "source": []
  }
 ],
 "metadata": {
  "kernelspec": {
   "display_name": "Python 3",
   "language": "python",
   "name": "python3"
  },
  "language_info": {
   "codemirror_mode": {
    "name": "ipython",
    "version": 3
   },
   "file_extension": ".py",
   "mimetype": "text/x-python",
   "name": "python",
   "nbconvert_exporter": "python",
   "pygments_lexer": "ipython3",
   "version": "3.8.8"
  }
 },
 "nbformat": 4,
 "nbformat_minor": 5
}
