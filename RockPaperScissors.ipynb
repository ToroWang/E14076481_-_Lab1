{
 "cells": [
  {
   "cell_type": "code",
   "execution_count": 1,
   "id": "bebdd6fb",
   "metadata": {},
   "outputs": [
    {
     "name": "stdout",
     "output_type": "stream",
     "text": [
      "Welcome to ROCK, PAPER, SCISSORS game!\n"
     ]
    }
   ],
   "source": [
    "print('Welcome to ROCK, PAPER, SCISSORS game!')"
   ]
  },
  {
   "cell_type": "code",
   "execution_count": 2,
   "id": "56f90d1b",
   "metadata": {},
   "outputs": [],
   "source": [
    "# 給定初始值 勝場、敗場、平手\n",
    "win = 0\n",
    "tie = 0\n",
    "lose = 0"
   ]
  },
  {
   "cell_type": "markdown",
   "id": "22171d47",
   "metadata": {},
   "source": [
    "### 土法煉鋼法\n",
    "* 全部的組合，掐指一算大約9次的`if` `elif`就能搞定\n",
    "* 勝利時將增加`win`變數使`while`終止\n",
    "* `input`我方的move，資料型態用`string`\n",
    "* 用隨機的1 2 3表示對手的出拳，資料型態用`integer`"
   ]
  },
  {
   "cell_type": "code",
   "execution_count": 3,
   "id": "7be631f0",
   "metadata": {},
   "outputs": [
    {
     "name": "stdout",
     "output_type": "stream",
     "text": [
      "Enter your move: (r)ock (p)aper (s)cissors r\n",
      "ROCK versus...\n",
      "ROCK \n",
      "It is a tie!\n",
      "Enter your move: (r)ock (p)aper (s)cissors r\n",
      "ROCK versus...\n",
      "ROCK \n",
      "It is a tie!\n",
      "Enter your move: (r)ock (p)aper (s)cissors r\n",
      "ROCK versus...\n",
      "ROCK \n",
      "It is a tie!\n",
      "Enter your move: (r)ock (p)aper (s)cissors r\n",
      "ROCK versus...\n",
      "ROCK \n",
      "It is a tie!\n",
      "Enter your move: (r)ock (p)aper (s)cissors r\n",
      "ROCK versus...\n",
      "SCISSORS \n",
      "You win!\n"
     ]
    }
   ],
   "source": [
    "import random\n",
    "\n",
    "while win == 0:    \n",
    "    move = input('Enter your move: (r)ock (p)aper (s)cissors ')\n",
    "    \n",
    "    opponent = random.randint(1, 3)\n",
    "    if move == 'r':\n",
    "        print('ROCK versus...')        \n",
    "        if opponent == 1:\n",
    "            print('ROCK', '\\nIt is a tie!')\n",
    "            tie += 1\n",
    "        elif opponent == 2:\n",
    "            print('PAPER', '\\nYou lose!')\n",
    "            lose += 1\n",
    "        elif opponent == 3:\n",
    "            print('SCISSORS', '\\nYou win!')\n",
    "            win = 1\n",
    "    elif move == 'p':\n",
    "        print('PAPER versus...')        \n",
    "        if opponent == 1:\n",
    "            print('ROCK', '\\nYou win!')\n",
    "            win = 1\n",
    "        elif opponent == 2:\n",
    "            print('PAPER', '\\nIt is a tie!')\n",
    "            tie += 1\n",
    "        elif opponent == 3:\n",
    "            print('SCISSORS', '\\nYou lose!')\n",
    "            lose += 1\n",
    "    elif move == 's':\n",
    "        print('SCISSORS versus...')        \n",
    "        if opponent == 1:\n",
    "            print('ROCK', '\\nYou lose!')\n",
    "            lose += 1\n",
    "        elif opponent == 2:\n",
    "            print('PAPER', '\\nYou win!')\n",
    "            win = 1\n",
    "        elif opponent == 3:\n",
    "            print('SCISSORS', '\\nIt is a tie!')\n",
    "            tie += 1"
   ]
  },
  {
   "cell_type": "markdown",
   "id": "f1b3e695",
   "metadata": {},
   "source": [
    "### f-string\n",
    "* 用今天剛教的`f-string`來同時輸出`string`跟`integer`"
   ]
  },
  {
   "cell_type": "code",
   "execution_count": 4,
   "id": "aa58ebbc",
   "metadata": {},
   "outputs": [
    {
     "name": "stdout",
     "output_type": "stream",
     "text": [
      "You have 4 ties and 0 losses before your first win.\n"
     ]
    }
   ],
   "source": [
    "print(f'You have {tie} ties and {lose} losses before your first win.')"
   ]
  }
 ],
 "metadata": {
  "kernelspec": {
   "display_name": "Python 3",
   "language": "python",
   "name": "python3"
  },
  "language_info": {
   "codemirror_mode": {
    "name": "ipython",
    "version": 3
   },
   "file_extension": ".py",
   "mimetype": "text/x-python",
   "name": "python",
   "nbconvert_exporter": "python",
   "pygments_lexer": "ipython3",
   "version": "3.8.8"
  }
 },
 "nbformat": 4,
 "nbformat_minor": 5
}
