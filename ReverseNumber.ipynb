{
 "cells": [
  {
   "cell_type": "markdown",
   "id": "3a9a6301",
   "metadata": {},
   "source": [
    "### Slicing\n",
    "* 不使用`string`，而是用`list`切割單一`integer`成好幾個element"
   ]
  },
  {
   "cell_type": "code",
   "execution_count": 1,
   "id": "bcdb8e35",
   "metadata": {
    "scrolled": false
   },
   "outputs": [
    {
     "name": "stdout",
     "output_type": "stream",
     "text": [
      "Enter an integer:-12345\n"
     ]
    }
   ],
   "source": [
    "num = int(input('Enter an integer: '))"
   ]
  },
  {
   "cell_type": "code",
   "execution_count": 2,
   "id": "79be359c",
   "metadata": {
    "scrolled": true
   },
   "outputs": [],
   "source": [
    "def reverse(number):\n",
    "    text = ''\n",
    "    \n",
    "    # 偵測是否為負值，是則更改為正值並額外加上負號\n",
    "    if (number < 0):\n",
    "        number *= -1\n",
    "        text += '-'\n",
    "        \n",
    "    # 每次迴圈exp乘於10倍，先用%取得餘數再用//得到一位數\n",
    "    exp = 1\n",
    "    while exp < number:\n",
    "        text += str(int((number % (exp*10)) // (exp)))\n",
    "        exp *= 10\n",
    "    \n",
    "    print(text)"
   ]
  },
  {
   "cell_type": "code",
   "execution_count": 3,
   "id": "ee985876",
   "metadata": {},
   "outputs": [
    {
     "name": "stdout",
     "output_type": "stream",
     "text": [
      "-54321\n"
     ]
    }
   ],
   "source": [
    "reverse(num)"
   ]
  },
  {
   "cell_type": "code",
   "execution_count": null,
   "id": "09c58d8b",
   "metadata": {},
   "outputs": [],
   "source": []
  },
  {
   "cell_type": "code",
   "execution_count": null,
   "id": "df507a78",
   "metadata": {},
   "outputs": [],
   "source": []
  }
 ],
 "metadata": {
  "kernelspec": {
   "display_name": "Python 3",
   "language": "python",
   "name": "python3"
  },
  "language_info": {
   "codemirror_mode": {
    "name": "ipython",
    "version": 3
   },
   "file_extension": ".py",
   "mimetype": "text/x-python",
   "name": "python",
   "nbconvert_exporter": "python",
   "pygments_lexer": "ipython3",
   "version": "3.8.8"
  }
 },
 "nbformat": 4,
 "nbformat_minor": 5
}
